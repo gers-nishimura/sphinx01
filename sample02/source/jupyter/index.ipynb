{
  "cells": [
    {
      "attachments": {},
      "cell_type": "markdown",
      "metadata": {
        "colab_type": "text",
        "id": "view-in-github"
      },
      "source": [
        "<a href=\"https://colab.research.google.com/github/gers-nishimura/colab01/blob/main/index.ipynb\" target=\"_parent\"><img src=\"https://colab.research.google.com/assets/colab-badge.svg\" alt=\"Open In Colab\"/></a>"
      ]
    },
    {
      "attachments": {},
      "cell_type": "markdown",
      "metadata": {
        "id": "4-RWQh48CD6O"
      },
      "source": [
        "# ipynb 形式のページだよ"
      ]
    },
    {
      "cell_type": "code",
      "execution_count": null,
      "metadata": {
        "id": "CCa0lhecvR0D"
      },
      "outputs": [],
      "source": [
        "# -*- coding: utf-8 -*-\n",
        "import subprocess\n",
        "import os\n",
        "from time import sleep\n",
        "\n",
        "shutter_numb = 0\n",
        "photo_dir = os.path.expanduser('~/denpa-gardening/photo_data')"
      ]
    }
  ],
  "metadata": {
    "colab": {
      "include_colab_link": true,
      "provenance": []
    },
    "kernelspec": {
      "display_name": "Python 3",
      "name": "python3"
    },
    "language_info": {
      "name": "python"
    }
  },
  "nbformat": 4,
  "nbformat_minor": 0
}
