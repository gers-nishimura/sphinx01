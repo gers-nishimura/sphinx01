{
 "cells": [
  {
   "attachments": {},
   "cell_type": "markdown",
   "metadata": {
    "colab_type": "text",
    "id": "view-in-github"
   },
   "source": [
    "<a href=\"https://colab.research.google.com/github/gers-nishimura/colab01/blob/main/index.ipynb\" target=\"_parent\"><img src=\"https://colab.research.google.com/assets/colab-badge.svg\" alt=\"Open In Colab\"/></a>"
   ]
  },
  {
   "attachments": {},
   "cell_type": "markdown",
   "metadata": {
    "id": "4-RWQh48CD6O"
   },
   "source": [
    "# ipynb 形式のページだよ"
   ]
  },
  {
   "cell_type": "code",
   "execution_count": 1,
   "metadata": {
    "execution": {
     "iopub.execute_input": "2023-07-06T07:11:49.320848Z",
     "iopub.status.busy": "2023-07-06T07:11:49.320496Z",
     "iopub.status.idle": "2023-07-06T07:11:49.329575Z",
     "shell.execute_reply": "2023-07-06T07:11:49.328765Z"
    },
    "id": "CCa0lhecvR0D"
   },
   "outputs": [],
   "source": [
    "# -*- coding: utf-8 -*-\n",
    "import subprocess\n",
    "import os\n",
    "from time import sleep\n",
    "\n",
    "shutter_numb = 0\n",
    "photo_dir = os.path.expanduser('~/denpa-gardening/photo_data')"
   ]
  }
 ],
 "metadata": {
  "colab": {
   "include_colab_link": true,
   "provenance": []
  },
  "kernelspec": {
   "display_name": "Python 3",
   "name": "python3"
  },
  "language_info": {
   "codemirror_mode": {
    "name": "ipython",
    "version": 3
   },
   "file_extension": ".py",
   "mimetype": "text/x-python",
   "name": "python",
   "nbconvert_exporter": "python",
   "pygments_lexer": "ipython3",
   "version": "3.10.6"
  }
 },
 "nbformat": 4,
 "nbformat_minor": 0
}
